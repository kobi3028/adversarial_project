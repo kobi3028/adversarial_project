{
 "cells": [
  {
   "cell_type": "code",
   "execution_count": 1,
   "metadata": {},
   "outputs": [],
   "source": [
    "import sys\n",
    "import inspect\n",
    "import argh\n",
    "import six\n",
    "import logging\n",
    "\n",
    "import torch\n",
    "from collections import namedtuple\n",
    "import torch.nn as nn\n",
    "\n",
    "import ae_dataset_loader\n",
    "import vgg\n",
    "import resnet\n",
    "import utils\n",
    "import numpy as np"
   ]
  },
  {
   "cell_type": "code",
   "execution_count": 2,
   "metadata": {},
   "outputs": [],
   "source": [
    "idx, x, y, is_adv, org_x, org_y, adv_algo_name, adv_algo_metric, model_name_index, tag = 0, 1, 2, 3, 4, 5, 6, 7, 8, 9"
   ]
  },
  {
   "cell_type": "code",
   "execution_count": 3,
   "metadata": {},
   "outputs": [],
   "source": [
    "dataset_file_name = '/home/alonhare/ae_splitted/ae_dataset/data/ae_dataset-full.job'\n",
    "ds = ae_dataset_loader.load(dataset_file_name)"
   ]
  },
  {
   "cell_type": "code",
   "execution_count": 4,
   "metadata": {},
   "outputs": [
    {
     "data": {
      "text/plain": [
       "120477"
      ]
     },
     "execution_count": 4,
     "metadata": {},
     "output_type": "execute_result"
    }
   ],
   "source": [
    "len(ds)"
   ]
  },
  {
   "cell_type": "code",
   "execution_count": 5,
   "metadata": {},
   "outputs": [],
   "source": [
    "model_name = 'vgg'\n",
    "\n",
    "if model_name == 'vgg':\n",
    "    model = vgg.create_vgg19_model(pretrained=True)\n",
    "elif model_name == 'resnet':\n",
    "    model = resnet.create_resnet56_model(pretrained=True)"
   ]
  },
  {
   "cell_type": "code",
   "execution_count": 6,
   "metadata": {},
   "outputs": [
    {
     "data": {
      "text/plain": [
       "(120477, 10)"
      ]
     },
     "execution_count": 6,
     "metadata": {},
     "output_type": "execute_result"
    }
   ],
   "source": [
    "data = np.array(ds)\n",
    "data.shape"
   ]
  },
  {
   "cell_type": "code",
   "execution_count": 7,
   "metadata": {},
   "outputs": [
    {
     "data": {
      "text/plain": [
       "'vgg'"
      ]
     },
     "execution_count": 7,
     "metadata": {},
     "output_type": "execute_result"
    }
   ],
   "source": [
    "model_name"
   ]
  },
  {
   "cell_type": "markdown",
   "metadata": {},
   "source": [
    "# Explore Data "
   ]
  },
  {
   "cell_type": "code",
   "execution_count": 8,
   "metadata": {},
   "outputs": [
    {
     "name": "stdout",
     "output_type": "stream",
     "text": [
      "number of samples:  120477\n",
      "number of adv:  70488\n",
      "adversarial attacks:  ['CarliniL2Method', 'ProjectedGradientDescent', 'CarliniLInfMethod', 'HopSkipJump', 'SpatialAttack', 'GaussianBlurAttack', 'ElasticNet', 'FastGradientMethod', 'AdditiveGaussianNoiseAttack', 'AdditiveUniformNoiseAttack', 'BlendedUniformNoiseAttack', 'LBFGSAttack', 'DeepFool', 'ContrastReductionAttack', 'NewtonFool']\n",
      "adversarial metric:  ['2', '1', 'inf']\n",
      "model names [None, 'resnet56', 'vgg19']\n"
     ]
    }
   ],
   "source": [
    "count_adv = 0\n",
    "adv_algo_names = []\n",
    "adv_algo_metrics = []\n",
    "model_names = []\n",
    "for row in data:\n",
    "    if(row[is_adv]):\n",
    "        count_adv+=1\n",
    "        if(row[adv_algo_name] not in adv_algo_names):\n",
    "           adv_algo_names.append(row[adv_algo_name])\n",
    "        if(row[adv_algo_metric] not in adv_algo_metrics):\n",
    "            adv_algo_metrics.append(row[adv_algo_metric])\n",
    "    if(row[model_name_index] not in model_names):\n",
    "        model_names.append(row[model_name_index])\n",
    "print('number of samples: ', data.shape[0])    \n",
    "print('number of adv: ', count_adv)\n",
    "print('adversarial attacks: ', adv_algo_names)\n",
    "print('adversarial metric: ', adv_algo_metrics)\n",
    "print('model names', model_names)"
   ]
  },
  {
   "cell_type": "markdown",
   "metadata": {},
   "source": [
    "# Extract Data"
   ]
  },
  {
   "cell_type": "code",
   "execution_count": 10,
   "metadata": {},
   "outputs": [
    {
     "data": {
      "text/plain": [
       "8313"
      ]
     },
     "execution_count": 10,
     "metadata": {},
     "output_type": "execute_result"
    }
   ],
   "source": [
    "algo_name = 'CarliniL2Method'\n",
    "metrics = '2'\n",
    "name = 'vgg19'\n",
    "vgg19_CWL2 = []\n",
    "for row in data:\n",
    "    if(row[is_adv] and row[adv_algo_name] == algo_name and row[adv_algo_metric] == metrics and row[model_name_index] == name):\n",
    "        vgg19_CWL2.append(row)\n",
    "len(vgg19_CWL2)"
   ]
  },
  {
   "cell_type": "code",
   "execution_count": 11,
   "metadata": {},
   "outputs": [
    {
     "data": {
      "text/plain": [
       "(8313, 10)"
      ]
     },
     "execution_count": 11,
     "metadata": {},
     "output_type": "execute_result"
    }
   ],
   "source": [
    "extracted = np.stack(vgg19_CWL2)\n",
    "extracted.shape"
   ]
  },
  {
   "cell_type": "code",
   "execution_count": 12,
   "metadata": {},
   "outputs": [
    {
     "name": "stdout",
     "output_type": "stream",
     "text": [
      "(8313, 3, 32, 32)\n",
      "(8313,)\n",
      "(8313, 3, 32, 32)\n",
      "(8313,)\n"
     ]
    }
   ],
   "source": [
    "x_benign, y_benign = np.stack(extracted[:, org_x], axis=0), np.stack(extracted[:, org_y], axis=0)\n",
    "x_adv, y_adv = np.stack(extracted[:, x], axis=0), np.stack(extracted[:, y], axis=0)\n",
    "print(x_benign.shape)\n",
    "print(y_benign.shape)\n",
    "print(x_adv.shape)\n",
    "print(y_adv.shape)"
   ]
  },
  {
   "cell_type": "code",
   "execution_count": 12,
   "metadata": {},
   "outputs": [],
   "source": [
    "sub_modules = model.children()\n",
    "model_layers = next(sub_modules)\n",
    "classifier_layers = next(sub_modules)"
   ]
  },
  {
   "cell_type": "code",
   "execution_count": 13,
   "metadata": {},
   "outputs": [],
   "source": [
    "x_in = (data[:2])[:, x]\n",
    "x_in = np.stack(x_in, axis=0)\n",
    "x_tensor = torch.tensor(x_in).cuda()"
   ]
  },
  {
   "cell_type": "code",
   "execution_count": 14,
   "metadata": {},
   "outputs": [
    {
     "data": {
      "text/plain": [
       "torch.Size([2, 3, 32, 32])"
      ]
     },
     "execution_count": 14,
     "metadata": {},
     "output_type": "execute_result"
    }
   ],
   "source": [
    "x_tensor.shape"
   ]
  },
  {
   "cell_type": "code",
   "execution_count": 15,
   "metadata": {},
   "outputs": [],
   "source": [
    "def batch_prediction(layer, x, batch_size=512):\n",
    "    predictions = []\n",
    "    for i in range((int)(x.shape[0]/batch_size)+1):\n",
    "        x_batch = torch.tensor(x[i*batch_size:np.minimum((i+1)*batch_size, x.shape[0])]).cuda()\n",
    "        prediction = layer(x_batch)\n",
    "        del x_batch\n",
    "#         x_batch.cpu().detach()\n",
    "        predictions.append(prediction.cpu().detach().numpy())\n",
    "    total =  np.concatenate(predictions, axis=0)\n",
    "    print(total.shape)\n",
    "    return total"
   ]
  },
  {
   "cell_type": "code",
   "execution_count": 16,
   "metadata": {},
   "outputs": [],
   "source": [
    "def save_by_batch(x, layer_index, batch_size = 512):\n",
    "    for i in range((int)(x.shape[0]/batch_size)+1):\n",
    "        x_batch = x[i*batch_size:np.minimum((i+1)*batch_size, x.shape[0])]\n",
    "#         np.save('logits/'+'layer_'+str(layer_index)+'_'+str(i), x_batch)\n",
    "        np.save('./logits/vgg19/cwL2/adversarial/'+'layer_'+str(layer_index)+'_'+str(i), x_batch)"
   ]
  },
  {
   "cell_type": "code",
   "execution_count": 17,
   "metadata": {},
   "outputs": [],
   "source": [
    "def get_relu_outputs(model_layers, classifier_layers, x, save_pre):\n",
    "    layer_index = 0\n",
    "    number_of_examples = x.shape[0]\n",
    "    for layer in model_layers:\n",
    "        x = batch_prediction(layer, x)\n",
    "        if(isinstance(layer, nn.ReLU) or isinstance(layer, nn.Linear)):\n",
    "            save_by_batch(x, layer_index)\n",
    "            layer_index+=1\n",
    "    x = x.reshape(number_of_examples, -1)\n",
    "    for layer in classifier_layers:\n",
    "        x = batch_prediction(layer, x)\n",
    "        if(isinstance(layer, nn.ReLU) or isinstance(layer, nn.Linear)):       \n",
    "            save_by_batch(x, layer_index)\n",
    "            layer_index+=1"
   ]
  },
  {
   "cell_type": "code",
   "execution_count": 18,
   "metadata": {},
   "outputs": [],
   "source": [
    "# logits = get_relu_outputs(model_layers.module, classifier_layers, torch.tensor(x_benign).cuda(), 'benign_')"
   ]
  },
  {
   "cell_type": "code",
   "execution_count": 19,
   "metadata": {},
   "outputs": [
    {
     "name": "stdout",
     "output_type": "stream",
     "text": [
      "(8313, 64, 32, 32)\n",
      "(8313, 64, 32, 32)\n",
      "(8313, 64, 32, 32)\n",
      "(8313, 64, 32, 32)\n",
      "(8313, 64, 16, 16)\n",
      "(8313, 128, 16, 16)\n",
      "(8313, 128, 16, 16)\n",
      "(8313, 128, 16, 16)\n",
      "(8313, 128, 16, 16)\n",
      "(8313, 128, 8, 8)\n",
      "(8313, 256, 8, 8)\n",
      "(8313, 256, 8, 8)\n",
      "(8313, 256, 8, 8)\n",
      "(8313, 256, 8, 8)\n",
      "(8313, 256, 8, 8)\n",
      "(8313, 256, 8, 8)\n",
      "(8313, 256, 8, 8)\n",
      "(8313, 256, 8, 8)\n",
      "(8313, 256, 4, 4)\n",
      "(8313, 512, 4, 4)\n",
      "(8313, 512, 4, 4)\n",
      "(8313, 512, 4, 4)\n",
      "(8313, 512, 4, 4)\n",
      "(8313, 512, 4, 4)\n",
      "(8313, 512, 4, 4)\n",
      "(8313, 512, 4, 4)\n",
      "(8313, 512, 4, 4)\n",
      "(8313, 512, 2, 2)\n",
      "(8313, 512, 2, 2)\n",
      "(8313, 512, 2, 2)\n",
      "(8313, 512, 2, 2)\n",
      "(8313, 512, 2, 2)\n",
      "(8313, 512, 2, 2)\n",
      "(8313, 512, 2, 2)\n",
      "(8313, 512, 2, 2)\n",
      "(8313, 512, 2, 2)\n",
      "(8313, 512, 1, 1)\n",
      "(8313, 512)\n",
      "(8313, 512)\n",
      "(8313, 512)\n",
      "(8313, 512)\n",
      "(8313, 512)\n",
      "(8313, 512)\n",
      "(8313, 10)\n"
     ]
    }
   ],
   "source": [
    "get_relu_outputs(model_layers.module, classifier_layers, x_adv, './logits/vgg19/cwL2/adversarial/adv_')"
   ]
  },
  {
   "cell_type": "code",
   "execution_count": 13,
   "metadata": {},
   "outputs": [],
   "source": [
    "np.save('./logits/vgg19/cwL2/labels_benign', y_benign)"
   ]
  },
  {
   "cell_type": "code",
   "execution_count": null,
   "metadata": {},
   "outputs": [],
   "source": []
  }
 ],
 "metadata": {
  "kernelspec": {
   "display_name": "dete env",
   "language": "python",
   "name": "dete"
  },
  "language_info": {
   "codemirror_mode": {
    "name": "ipython",
    "version": 3
   },
   "file_extension": ".py",
   "mimetype": "text/x-python",
   "name": "python",
   "nbconvert_exporter": "python",
   "pygments_lexer": "ipython3",
   "version": "3.7.7"
  }
 },
 "nbformat": 4,
 "nbformat_minor": 4
}
