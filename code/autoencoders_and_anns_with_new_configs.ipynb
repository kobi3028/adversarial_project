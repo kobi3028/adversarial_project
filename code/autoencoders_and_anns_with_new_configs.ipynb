{
 "cells": [
  {
   "cell_type": "code",
   "execution_count": 1,
   "metadata": {},
   "outputs": [],
   "source": [
    "import tensorflow as tf\n",
    "from tensorflow.keras.layers import Input, Dense, Conv2D, MaxPooling2D, UpSampling2D, BatchNormalization\n",
    "\n",
    "from tensorflow.keras import Sequential\n",
    "from tensorflow.keras.models import Model\n",
    "from tensorflow.keras import backend as K\n",
    "\n",
    "from tensorflow.keras.utils import to_categorical\n",
    "\n",
    "import numpy as np\n",
    "import os\n",
    "from detector import *\n",
    "import time\n",
    "import random\n",
    "\n",
    "from sklearn.metrics import precision_recall_curve\n",
    "from sklearn.metrics import f1_score\n",
    "from sklearn.metrics import auc"
   ]
  },
  {
   "cell_type": "code",
   "execution_count": 2,
   "metadata": {},
   "outputs": [
    {
     "name": "stdout",
     "output_type": "stream",
     "text": [
      "1 Physical GPUs, 1 Logical GPU\n"
     ]
    }
   ],
   "source": [
    "if tf.__version__[0] != '2':\n",
    "    raise ImportError('This notebook requires Tensorflow v2.')\n",
    "    \n",
    "#verify gpu is avaiable\n",
    "gpus = tf.config.experimental.list_physical_devices('GPU')\n",
    "tf.config.experimental.set_visible_devices(gpus[0], 'GPU')\n",
    "logical_gpus = tf.config.experimental.list_logical_devices('GPU')\n",
    "print(len(gpus), \"Physical GPUs,\", len(logical_gpus), \"Logical GPU\")"
   ]
  },
  {
   "cell_type": "markdown",
   "metadata": {},
   "source": [
    "## configurations"
   ]
  },
  {
   "cell_type": "code",
   "execution_count": 32,
   "metadata": {},
   "outputs": [],
   "source": [
    "# attack = 'CarliniLInfMethodinf'\n",
    "attack = 'ProjectedGradientDescentinf'\n",
    "\n",
    "activation = 'sigmoid'\n",
    "# activation = 'tanh'\n",
    "\n",
    "# load_benign = True\n",
    "load_benign = False\n",
    "\n",
    "load_adv = True\n",
    "# load_adv = False\n",
    "\n",
    "# train_autoencoders = True\n",
    "train_autoencoders = False\n",
    "\n",
    "# train_anns = True\n",
    "train_anns = False\n",
    "\n",
    "# compute_probs = True\n",
    "compute_probs = False\n",
    "\n",
    "pred_train_or_test = 'test'\n",
    "# pred_train_or_test = 'train'\n",
    "\n",
    "# predict_benign = True\n",
    "predict_benign = False\n",
    "\n",
    "predict_adv = True\n",
    "# predict_adv = False\n",
    "\n",
    "evaluation = True\n",
    "# evaluation = False\n",
    "\n",
    "EXT = '.npy'\n",
    "\n",
    "folder = './'+attack+'/'+activation+'/'\n",
    "LAYER = 21\n",
    "PARTS = 17\n",
    "# TRAIN_SAMPLES = int(8313 * 0.9)\n",
    "# TEST_SAMPLES = 8313 - TRAIN_SAMPLES\n",
    "# ALL_SAMPLES = 8313\n",
    "\n",
    "data_dir_name = '../../ae_dataset loader/src/logits/vgg19/'+attack"
   ]
  },
  {
   "cell_type": "code",
   "execution_count": 4,
   "metadata": {},
   "outputs": [],
   "source": [
    "def createAutoEncoderAndTrain(x_train):\n",
    "    input_shape = x_train[0].flatten().shape[0]\n",
    "    input_img = Input(shape=(input_shape,))\n",
    "    encoded = BatchNormalization()(input_img)\n",
    "    encoded = Dense(160, activation=activation)(encoded)\n",
    "    encoded = Dense(100, activation=activation)(encoded)\n",
    "\n",
    "    decoded = Dense(160, activation=activation)(encoded)\n",
    "    decoded = Dense(input_shape, activation=activation)(decoded)\n",
    "    \n",
    "    autoencoder = Model(input_img, decoded)\n",
    "    autoencoder.compile(optimizer='adam', loss='mse')\n",
    "\n",
    "    autoencoder.fit(x_train, x_train,\n",
    "                epochs=45,\n",
    "                batch_size=512,\n",
    "                shuffle=True,\n",
    "                validation_split = 0.1,                   \n",
    "                callbacks = [tf.keras.callbacks.EarlyStopping(patience=3)]\n",
    "                   )\n",
    "    return autoencoder"
   ]
  },
  {
   "cell_type": "code",
   "execution_count": 5,
   "metadata": {},
   "outputs": [],
   "source": [
    "def load_logits(benign_or_adv):\n",
    "    logits = []\n",
    "    for i in range(LAYER):\n",
    "            layer_logits = []\n",
    "            count = 0\n",
    "            # print('[{:11.2f}s][+] train activation space: layer {}/21'.format(time.time() - start, i + 1))\n",
    "            for j in range(PARTS):\n",
    "                f_x_train = np.load(os.path.join(data_dir_name, benign_or_adv, 'layer_{}_{}'.format(i, j) + EXT))\n",
    "                flatten_shape = 1\n",
    "    #             print(f_x_train.shape)\n",
    "                for shape_index in range(1, len(f_x_train.shape)):\n",
    "                    flatten_shape = flatten_shape * f_x_train.shape[shape_index]\n",
    "                f_x_train = f_x_train.flatten().reshape(f_x_train.shape[0], flatten_shape)\n",
    "    #             print(f_x_train.shape)\n",
    "                layer_logits.append(f_x_train)\n",
    "            layer_logits = np.array(layer_logits)\n",
    "            layer_logits = np.concatenate(layer_logits, axis=0)\n",
    "            logits.append(layer_logits)\n",
    "    return logits"
   ]
  },
  {
   "cell_type": "code",
   "execution_count": 6,
   "metadata": {},
   "outputs": [],
   "source": [
    "if load_benign:\n",
    "    benign_logits = load_logits('benign')\n",
    "    logits = benign_logits"
   ]
  },
  {
   "cell_type": "code",
   "execution_count": 7,
   "metadata": {},
   "outputs": [],
   "source": [
    "if load_adv:\n",
    "    adv_logits = load_logits('adversarial')\n",
    "    logits = adv_logits"
   ]
  },
  {
   "cell_type": "code",
   "execution_count": 33,
   "metadata": {},
   "outputs": [],
   "source": [
    "if load_benign or load_adv:\n",
    "    n_layers = len(logits)\n",
    "    n_samples = logits[0].shape[0]"
   ]
  },
  {
   "cell_type": "code",
   "execution_count": 34,
   "metadata": {},
   "outputs": [
    {
     "name": "stdout",
     "output_type": "stream",
     "text": [
      "[4952 1595 2952 ... 5452 2714 5994]\n",
      "(7833,)\n",
      "(871,)\n"
     ]
    }
   ],
   "source": [
    "#extract train test\n",
    "n_train_samples = int(n_samples * 0.9)\n",
    "n_test_samples = n_samples - n_train_samples\n",
    "\n",
    "# random.seed(os.urandom(5))\n",
    "seed = 1337\n",
    "all_indexes = np.arange(0, n_samples, 1)\n",
    "random.Random(seed).shuffle(all_indexes)\n",
    "train_indexes = all_indexes[:n_train_samples]\n",
    "test_indexes = all_indexes[n_train_samples:]\n",
    "print(all_indexes)\n",
    "print(train_indexes.shape)\n",
    "print(test_indexes.shape)"
   ]
  },
  {
   "cell_type": "code",
   "execution_count": 35,
   "metadata": {},
   "outputs": [],
   "source": [
    "#train autoencoders\n",
    "if train_autoencoders:\n",
    "    for layer_index in range(n_layers):\n",
    "        print('layer: ', layer_index)\n",
    "        layer_encoder= createAutoEncoderAndTrain((benign_logits[layer_index])[train_indexes])\n",
    "        layer_encoder.save(folder+'autoencoders/layer_'+str(layer_index)+'.hdf5')   "
   ]
  },
  {
   "cell_type": "code",
   "execution_count": 36,
   "metadata": {},
   "outputs": [
    {
     "name": "stdout",
     "output_type": "stream",
     "text": [
      "(7833, 10)\n",
      "(871, 10)\n"
     ]
    }
   ],
   "source": [
    "y = np.load(os.path.join(data_dir_name, 'labels_benign.npy'))\n",
    "y_hot = to_categorical(y)\n",
    "y_train = y_hot[train_indexes]\n",
    "y_test = y_hot[test_indexes]\n",
    "print(y_train.shape)\n",
    "print(y_test.shape)"
   ]
  },
  {
   "cell_type": "code",
   "execution_count": 37,
   "metadata": {},
   "outputs": [],
   "source": [
    "def createAndTrainAnn(x_train, y_train):\n",
    "    model = Sequential()\n",
    "    model.add(Dense(100, input_dim=x_train[0].shape[0], activation='relu'))\n",
    "    model.add(Dense(10, activation='sigmoid'))\n",
    "    model.compile(loss='binary_crossentropy', optimizer='adam', metrics=['accuracy'])\n",
    "    model.fit(x_train,\n",
    "              y_train,\n",
    "              epochs=70,\n",
    "              batch_size=512,\n",
    "              shuffle=True,\n",
    "              validation_split = 0.1,\n",
    "              callbacks = [tf.keras.callbacks.EarlyStopping(patience=3)]\n",
    "             )\n",
    "    return model"
   ]
  },
  {
   "cell_type": "code",
   "execution_count": 38,
   "metadata": {},
   "outputs": [],
   "source": [
    "def encode_from_autoencoder(autoencoder, data):\n",
    "    model = autoencoder\n",
    "    intermediate_layer_model = Model(inputs=model.input,\n",
    "                                 outputs=model.layers[3].output)\n",
    "    intermediate_output = intermediate_layer_model.predict(data, batch_size=512)\n",
    "    return intermediate_output"
   ]
  },
  {
   "cell_type": "code",
   "execution_count": 39,
   "metadata": {},
   "outputs": [
    {
     "data": {
      "text/plain": [
       "array([[0., 0., 0., ..., 0., 0., 0.],\n",
       "       [1., 0., 0., ..., 0., 0., 0.],\n",
       "       [0., 0., 0., ..., 0., 0., 0.],\n",
       "       ...,\n",
       "       [0., 0., 0., ..., 1., 0., 0.],\n",
       "       [0., 0., 0., ..., 1., 0., 0.],\n",
       "       [0., 0., 0., ..., 0., 0., 0.]], dtype=float32)"
      ]
     },
     "execution_count": 39,
     "metadata": {},
     "output_type": "execute_result"
    }
   ],
   "source": [
    "y_train"
   ]
  },
  {
   "cell_type": "code",
   "execution_count": 40,
   "metadata": {},
   "outputs": [],
   "source": [
    "#train and save ann\n",
    "if train_anns:\n",
    "    layers_ann = []\n",
    "    train_layers_predictions = []\n",
    "    for layer_index in range(n_layers):\n",
    "        x_train = (benign_logits[layer_index])[train_indexes]\n",
    "        filepath = folder+'autoencoders/layer_'+str(layer_index)+'.hdf5'\n",
    "        layer_autoencoder = tf.keras.models.load_model(filepath)\n",
    "        encoded = encode_from_autoencoder(layer_autoencoder, x_train)\n",
    "        print('layer number: ', layer_index)\n",
    "        layer_ann = createAndTrainAnn(encoded, y_train)\n",
    "        layer_ann.save(folder+'anns/layer_'+str(layer_index)+'.hdf5') \n",
    "        layers_ann.append(layer_ann)\n",
    "    #     train_layers_predictions.append(tf.argmax(layer_ann.predict(encoded, batch_size=512), axis=0))\n",
    "else:\n",
    "    #load anns\n",
    "    layers_ann = []\n",
    "    train_layers_predictions = []\n",
    "    for layer_index in range(n_layers):\n",
    "        layer_ann = tf.keras.models.load_model(folder+'anns/layer_'+str(layer_index)+'.hdf5')\n",
    "        layers_ann.append(layer_ann)"
   ]
  },
  {
   "cell_type": "code",
   "execution_count": 41,
   "metadata": {},
   "outputs": [],
   "source": [
    "def get_layers_predictions(layers_ann, logits, layer_indexes):\n",
    "    layers_predictions = []\n",
    "    for layer_index in range(n_layers):\n",
    "        x_train = (logits[layer_index])[layer_indexes]\n",
    "        filepath = folder+'autoencoders/layer_'+str(layer_index)+'.hdf5'\n",
    "        layer_autoencoder = tf.keras.models.load_model(filepath)\n",
    "        encoded = encode_from_autoencoder(layer_autoencoder, x_train)\n",
    "#         print(encoded.shape)\n",
    "        layers_predictions.append(tf.argmax(layers_ann[layer_index].predict(encoded, batch_size=512), axis=1))\n",
    "    return layers_predictions"
   ]
  },
  {
   "cell_type": "markdown",
   "metadata": {},
   "source": [
    "## compute probs"
   ]
  },
  {
   "cell_type": "code",
   "execution_count": 42,
   "metadata": {},
   "outputs": [],
   "source": [
    "if compute_probs:\n",
    "    train_layers_predictions = get_layers_predictions(layers_ann, benign_logits, train_indexes)\n",
    "\n",
    "    layer_prob = []\n",
    "    for layer_index in range(1, n_layers):\n",
    "        cur_layer_pred = train_layers_predictions[layer_index]\n",
    "        prev_layer_pred =train_layers_predictions[layer_index-1]\n",
    "        count_diff = tf.reduce_sum(tf.cast(cur_layer_pred != prev_layer_pred, tf.float32))\n",
    "        layer_prob.append(count_diff / train_layers_predictions[layer_index].shape[0])\n",
    "        print(count_diff)\n",
    "    tf.print(layer_prob)\n",
    "    np.save(folder+'layer_prob.npy', layer_prob)\n",
    "else:\n",
    "    layer_prob = np.load(folder+'layer_prob.npy')\n",
    "    layer_prob+= float(1e-32)"
   ]
  },
  {
   "cell_type": "code",
   "execution_count": 43,
   "metadata": {},
   "outputs": [],
   "source": [
    "#[0.36128488931665065, 0.36453320500481234, 0.23472088546679498, 0.21246390760346487, 0.1347449470644851, 0.10190086621751684, 0.021896053897978825, 0.001203079884504331, 1e-38, 1e-38, 1e-38, 1e-38, 1e-38, 1e-38, 1e-38, 1e-38, 1e-38, 1e-38, 1e-38, 1e-38]"
   ]
  },
  {
   "cell_type": "code",
   "execution_count": 44,
   "metadata": {},
   "outputs": [
    {
     "name": "stdout",
     "output_type": "stream",
     "text": [
      "0.44274226\n",
      "0.4589557\n",
      "0.5818971\n",
      "0.6336014\n",
      "0.45793438\n",
      "0.743138\n",
      "0.56044936\n",
      "0.1940508\n",
      "0.054002296\n",
      "0.055917274\n",
      "0.036767524\n",
      "0.010340866\n",
      "0.000127665\n",
      "1e-32\n",
      "0.000127665\n",
      "0.000127665\n",
      "1e-32\n",
      "1e-32\n",
      "1e-32\n",
      "0.00076599006\n"
     ]
    }
   ],
   "source": [
    "# layer_prob += [float(1e-32)\n",
    "for prob in layer_prob:\n",
    "    tf.print(prob)"
   ]
  },
  {
   "cell_type": "code",
   "execution_count": 45,
   "metadata": {},
   "outputs": [],
   "source": [
    "def get_loglikelihood(predictions, layer_prob):\n",
    "    log_likeligood = np.zeros(predictions[0].shape[0])\n",
    "    for layer_index in range(1, len(predictions)):\n",
    "        cur_layer_pred = predictions[layer_index]\n",
    "        prev_layer_pred = predictions[layer_index-1]\n",
    "        pred_changed = tf.cast(cur_layer_pred != prev_layer_pred, tf.float32)\n",
    "        changed_indexes = pred_changed == 1\n",
    "        same_indexes = pred_changed == 0\n",
    "        log_likeligood[changed_indexes]+= np.full((np.sum(changed_indexes)), tf.math.log(layer_prob[layer_index-1]))        \n",
    "        \n",
    "        log_likeligood[same_indexes]+= np.full((np.sum(same_indexes)), tf.math.log(1-layer_prob[layer_index-1]))\n",
    "    print(log_likeligood)\n",
    "    return log_likeligood"
   ]
  },
  {
   "cell_type": "code",
   "execution_count": 46,
   "metadata": {},
   "outputs": [],
   "source": [
    "if(pred_train_or_test == 'train'):\n",
    "    indexes = train_indexes\n",
    "else:\n",
    "    indexes = test_indexes"
   ]
  },
  {
   "cell_type": "code",
   "execution_count": 47,
   "metadata": {},
   "outputs": [],
   "source": [
    "train_or_test = pred_train_or_test"
   ]
  },
  {
   "cell_type": "code",
   "execution_count": 48,
   "metadata": {},
   "outputs": [
    {
     "data": {
      "text/plain": [
       "'./ProjectedGradientDescentinf/sigmoid/test'"
      ]
     },
     "execution_count": 48,
     "metadata": {},
     "output_type": "execute_result"
    }
   ],
   "source": [
    "folder+train_or_test"
   ]
  },
  {
   "cell_type": "code",
   "execution_count": 49,
   "metadata": {},
   "outputs": [],
   "source": [
    "if predict_benign:\n",
    "    benign_pred = get_layers_predictions(layers_ann, benign_logits, indexes)\n",
    "    benign_log = get_loglikelihood(benign_pred, layer_prob)\n",
    "    np.save(folder+train_or_test+'_benign_log.npy', benign_log)\n",
    "else:\n",
    "    benign_log = np.load(folder+train_or_test+'_benign_log.npy')"
   ]
  },
  {
   "cell_type": "code",
   "execution_count": 50,
   "metadata": {},
   "outputs": [
    {
     "name": "stdout",
     "output_type": "stream",
     "text": [
      "[  -6.47910809   -4.79209944   -6.09742825   -6.42901884   -5.51729112\n",
      "   -5.33568404   -5.78894966  -93.31838386   -7.04830298   -6.04998167\n",
      "   -4.94109654   -6.03193562   -5.10564397   -6.23612213   -7.50842135\n",
      "   -5.08355662   -4.94109654   -5.74733119   -6.57963397   -5.02217774\n",
      "  -17.61839634   -5.74733119   -4.22737966   -5.41676524   -6.06746094\n",
      "   -6.41508654   -4.06283223   -4.47447938   -8.03435029   -4.63902682\n",
      "  -13.35127502   -6.52954472   -5.1711366    -6.75958479   -4.80504534\n",
      "   -4.94109654   -4.94109654   -6.45898615   -6.1284202   -17.22380884\n",
      "   -4.80093158   -5.33568404   -5.70136967   -4.80504534  -95.53717541\n",
      "   -5.33568404  -10.86069086   -6.64512661   -7.45583637   -4.06283223\n",
      "  -10.12864907   -5.0350854   -10.58631334   -6.56668808   -5.51729112\n",
      "   -5.1711366    -6.96072299   -5.92876706   -6.1284202    -4.61053059\n",
      "   -4.94109654   -5.50434522   -4.62608092   -5.45838371   -4.95664687\n",
      "   -5.50434522   -8.91319537   -6.41508654   -8.06902736   -6.96072299\n",
      "  -10.24749987   -5.76274855   -5.35274369   -4.86906688   -8.00353473\n",
      "   -5.53682224   -4.94109654   -5.1840825    -6.36499729   -5.1711366\n",
      "   -6.40214064   -4.62608092  -11.89264678   -4.47036563   -5.02217774\n",
      "  -11.89264678   -5.34862993   -5.1711366    -5.10564397   -5.7668623\n",
      "   -4.62343825   -6.15050756  -11.34494843  -16.07075262   -4.39604085\n",
      "   -5.67287344   -6.67611856  -16.67611049   -5.35274369   -6.26197569\n",
      "   -5.85444229   -5.33568404  -11.97987922   -4.79209944   -7.59600133\n",
      "   -5.70136967   -6.31456066   -4.7266068    -4.06283223   -5.00511808\n",
      "   -4.56205937 -176.59742424   -4.70040569  -23.31358514  -11.72398559\n",
      "   -7.6313859    -5.51729112  -12.28723428  -11.73953593   -6.41508654\n",
      "   -5.1840825    -4.47447938  -13.56576475   -6.6720048    -8.6831553\n",
      "  -10.14697398   -4.94109654   -5.89426638  -14.19193396   -5.01806398\n",
      "   -6.20309253   -4.94109654   -4.63902682   -5.68842377   -4.56205937\n",
      "   -6.80967404 -115.25882112   -5.1711366    -6.53365848   -9.46089372\n",
      "   -6.33664801  -12.45301759   -4.47036563   -7.35531049   -5.57867\n",
      "   -6.07157469   -6.60798325  -11.21343059   -5.00923184  -13.24370191\n",
      "   -6.08452059   -9.43032364  -12.90169452   -4.84057065   -7.00257075\n",
      "   -6.24906802   -5.2522178    -4.46153349   -5.10564397   -5.62440222\n",
      "   -5.35521515   -5.9029135    -6.83802332  -16.983118     -4.45741973\n",
      "   -5.02217774   -4.2928723    -5.88132048   -5.81994161   -8.6831553\n",
      "  -11.17557709   -6.52954472   -6.62353359  -13.78946774   -5.74733119\n",
      " -103.91368001   -4.39604085   -6.31456066   -4.22737966   -4.62608092\n",
      "   -8.74453418   -4.23149342   -6.04998167   -6.23347946   -6.1284202\n",
      "   -4.94373921  -12.54398015   -4.80504534   -4.86642421   -5.89426638\n",
      "   -5.58278375   -4.22737966   -5.89838014   -4.61053059   -5.88132048\n",
      "   -6.47910809   -4.47447938   -4.45741973   -5.18672517   -6.03193562\n",
      "   -5.33568404  -11.62096399   -5.88132048  -13.82165838   -5.10975773\n",
      "   -4.94109654   -6.40214064  -10.86069086   -5.1711366    -5.65128042\n",
      "   -4.94109654  -14.04293686   -8.51860787   -5.12517509  -10.70761824\n",
      "   -6.59503736  -12.52103932   -4.94109654   -5.58278375   -6.42901884\n",
      "   -4.39339818   -5.33568404   -5.62028847   -4.70451945   -6.53365848\n",
      "   -4.62608092   -4.23149342   -5.41676524   -5.68842377   -5.68842377\n",
      "   -5.62440222   -6.36499729   -6.06292757  -11.86165483   -5.53682224\n",
      "  -18.70321609   -4.2928723    -5.57867      -5.81994161  -12.2134142\n",
      "   -5.01806398   -6.96072299   -6.00608206 -182.58522443   -4.3058182\n",
      "  -11.03772217   -6.23612213   -5.84153463  -10.63065079   -4.70040569\n",
      "   -5.9029135    -5.84153463   -4.84057065   -5.33568404   -4.22737966\n",
      "   -6.47910809   -5.1711366    -9.75238649  -11.63323883   -6.42901884\n",
      "   -4.39339818   -5.24810405   -7.19076306   -6.047339     -5.57867\n",
      "   -5.00511808   -4.7266068    -5.34862993   -4.70040569   -4.96959277\n",
      "   -5.68842377   -4.70451945   -6.59503736   -5.58278375   -4.70451945\n",
      "  -10.86069086   -5.27430516   -5.48673299   -5.76274855   -4.22737966\n",
      "   -4.45741973   -4.39604085   -4.63902682   -6.7791159    -5.53682224\n",
      "   -5.68842377  -18.02737744   -5.10975773   -5.83742087  -16.78446949\n",
      "   -6.24906802   -9.53015132   -6.42901884   -5.01806398   -5.74733119\n",
      "   -6.42901884   -6.84066599   -6.00343939   -4.94109654   -6.36499729\n",
      "   -6.59503736   -4.77507802   -5.34862993   -4.23149342   -5.00923184\n",
      "   -6.07157469   -5.1711366    -5.29383627   -4.47447938   -6.19897877\n",
      "   -4.63902682   -6.92824598   -6.7920618   -12.80501216   -6.31456066\n",
      "  -16.23677113   -5.0350854    -4.47447938   -4.06283223   -5.33979779\n",
      "   -6.59503736   -9.24376132   -6.88228446   -4.45741973  -13.89897338\n",
      "   -5.51729112   -5.27430516   -5.65539418   -4.2928723    -6.1284202\n",
      "   -5.35274369  -12.07010188   -4.45741973   -5.74733119   -5.83742087\n",
      "   -4.2928723    -6.01898972   -5.18672517   -6.36763996   -5.1711366\n",
      "   -8.6831553    -4.94109654   -7.35531049   -5.00923184   -4.39604085\n",
      "  -12.71830672   -5.76274855   -8.91319537  -12.59560705   -5.00511808\n",
      "   -6.19897877   -4.7266068    -5.51729112   -4.2928723   -12.28847016\n",
      "   -6.40214064   -5.02217774   -4.70451945   -5.45838371   -9.91693392\n",
      "   -5.08355662   -6.41508654   -4.22737966   -6.21188644   -5.58278375\n",
      "   -4.46153349   -5.50434522   -8.00353473   -4.70451945   -4.94373921\n",
      "   -4.22737966   -5.0350854    -4.70451945   -5.53682224  -15.65344008\n",
      "   -6.03443134   -5.02217774   -5.00511808  -11.8897689    -5.50434522\n",
      "   -6.41097279   -4.61053059   -4.80504534   -5.10975773  -12.05719422\n",
      "  -12.12268685   -6.21188644   -4.79209944   -4.70451945   -5.88543424\n",
      "   -5.71677305  -10.63065079   -5.1840825    -6.54907584   -4.96959277\n",
      "   -5.33568404   -4.23149342   -5.1840825    -6.08452059   -5.41676524\n",
      "   -4.86906688   -5.34862993   -4.62608092   -5.45838371   -6.47910809\n",
      "  -14.99427067   -6.36499729   -5.33568404   -5.86738819   -4.39604085\n",
      "   -6.36499729 -109.00302631  -14.66760266   -4.62608092   -4.06283223\n",
      "   -5.7668623    -5.68842377   -5.88543424   -4.46153349   -4.47447938\n",
      "   -5.1840825    -5.35274369   -5.85444229   -5.7668623    -5.70136967\n",
      "  -17.05514765  -10.3129925    -4.94109654   -5.48673299   -5.24810405\n",
      "   -5.50434522   -5.00511808   -5.70136967   -4.2928723   -27.44965063\n",
      "   -6.94777709   -6.26447141  -12.69623876   -5.1711366   -10.73942419\n",
      "   -5.51729112  -12.0779806    -5.1711366    -4.22737966   -4.22737966\n",
      "   -5.58278375   -6.60798325   -5.51729112   -5.0350854    -5.93140974\n",
      "   -4.61053059  -12.2843564   -94.26601934   -4.94109654   -4.2928723\n",
      "   -6.60798325   -6.00608206   -5.17377927   -5.2522178    -9.80440557\n",
      "   -6.36499729   -5.35274369  -14.54368331   -5.24810405   -6.71773703\n",
      "   -7.50842135   -6.03193562   -6.36499729   -6.75958479   -8.91319537\n",
      "   -4.39339818  -14.48230443   -6.47910809   -5.29383627   -5.29383627\n",
      "   -6.42901884   -4.86906688   -4.77919178   -5.00923184   -6.19897877\n",
      "   -5.18672517   -4.70040569  -10.63065079   -5.65539418   -4.2928723\n",
      "  -88.1097652    -4.46153349   -4.3058182    -4.23149342  -11.88853303\n",
      "   -6.06746094  -11.73953593   -6.83802332   -5.1711366  -176.2289269\n",
      "   -4.95664687   -6.03443134   -5.58278375   -4.2928723    -5.02217774\n",
      "   -4.22737966   -4.84057065   -4.86906688   -4.62608092   -5.70136967\n",
      "  -16.81857056   -5.1840825    -5.33568404  -10.55862114   -4.94109654\n",
      "   -5.57867      -6.20309253  -25.47805152   -6.59503736  -10.21665093\n",
      "   -5.0350854    -4.85351655   -4.70451945  -17.05514765   -9.22821098\n",
      "  -11.04229794  -15.90620518   -6.4331326    -5.1711366    -6.42901884\n",
      "  -11.20226961   -6.29296764   -5.17377927   -4.45741973   -4.7266068\n",
      "   -5.1840825    -5.17377927  -13.40560667   -4.80504534   -5.74733119\n",
      "   -4.7266068    -6.3104469   -11.34494843 -186.55988131   -6.59503736\n",
      "   -4.79209944  -20.0501494    -5.1840825   -20.0501494    -5.88132048\n",
      "   -5.33568404   -5.00923184   -4.56205937  -11.89264678   -4.85351655\n",
      "   -9.29634629   -4.22737966   -9.09215978   -6.23612213  -11.10125232\n",
      "   -5.33568404   -4.56205937   -5.1711366    -6.75958479   -4.45741973\n",
      "   -5.10564397  -12.2973023    -4.86906688  -11.73953593   -6.08452059\n",
      "   -5.0350854    -6.75958479   -4.70451945   -4.45741973   -5.1711366\n",
      "   -4.47447938   -9.46089372   -5.84153463  -12.85160527  -15.04291045\n",
      "   -6.03443134   -4.94373921   -6.38054762  -12.61780023   -5.58278375\n",
      "   -6.3104469    -7.59600133   -5.1711366    -6.80967404   -5.41676524\n",
      "   -5.02217774   -5.57867      -4.63902682   -5.00511808   -4.47447938\n",
      "  -13.65022261   -5.57867      -5.51729112   -4.47447938   -6.59768003\n",
      "   -6.24642535   -5.57867      -4.77919178   -6.42901884   -5.17377927\n",
      "  -11.89264678   -6.36499729   -5.92876706  -10.86674842  -11.90555445\n",
      "   -6.52954472   -5.1711366   -12.68705783   -4.84057065   -6.17210058\n",
      "   -6.00608206   -4.47447938   -5.33979779   -5.24810405   -5.89838014\n",
      "   -5.52387634   -4.06283223   -5.1711366    -5.48673299   -7.26543538\n",
      "   -5.02217774   -5.45838371   -5.93140974   -5.18672517   -4.56205937\n",
      "   -6.23612213   -5.98596013   -5.93140974   -4.62343825   -7.73846141\n",
      "   -7.04830298   -7.29128894   -5.02217774   -5.50434522   -5.1711366\n",
      "   -6.22483233   -7.49547545   -9.39275841   -4.45741973   -5.51729112\n",
      "   -6.09742825   -4.56205937   -9.46089372   -6.80967404  -19.35802555\n",
      "   -6.36499729   -7.80431023   -6.47646542   -4.3058182    -7.21285041\n",
      "   -5.00511808   -5.93140974   -6.21600019   -4.06283223   -4.56205937\n",
      "   -5.41676524   -4.78798568   -4.94109654   -8.44188369   -9.45825105\n",
      "   -4.78798568   -4.39339818   -6.12430645   -5.84153463   -6.41508654\n",
      "  -17.05514765   -5.17377927   -6.75958479   -9.22821098  -13.40972042\n",
      "   -5.78894966   -5.58278375  -93.55230247  -16.6215601    -5.1711366\n",
      "   -5.65128042  -15.56128432  -10.76622254   -5.1711366    -5.41412257\n",
      "   -4.39339818   -6.36499729   -4.86906688   -5.7668623    -6.64512661\n",
      "   -6.14589947  -92.39348502   -7.35531049   -4.22737966   -4.39604085\n",
      "   -4.62608092   -4.53585826   -4.70040569   -6.23612213   -6.06292757\n",
      "   -5.65128042   -5.98596013   -4.45741973   -4.77919178   -5.88132048\n",
      "   -5.93140974   -6.80967404   -4.63902682   -6.52954472  -11.57498849\n",
      "   -4.39604085   -5.57867     -10.58631334   -5.08355662   -5.0350854\n",
      "   -6.64512661   -5.85444229   -5.00923184   -4.63902682   -6.41508654\n",
      "   -7.80431023   -5.93140974   -6.52954472   -6.24642535   -4.62608092\n",
      "  -10.63065079   -5.50434522  -19.72837736  -10.58631334   -4.23149342\n",
      "   -6.92824598   -4.86906688   -6.80967404   -4.70451945   -5.29383627\n",
      "   -5.88543424   -5.89838014 -105.20652494   -8.74864793  -12.45301759\n",
      "   -5.57867      -5.83742087   -6.24906802   -4.06283223   -5.58278375\n",
      "   -5.88132048   -5.9158594    -5.33568404  -12.15494805   -5.1711366\n",
      "   -4.56205937   -4.62608092   -5.93140974   -7.67032611   -8.91319537\n",
      "  -10.0252647    -4.70451945   -4.77507802   -4.45741973   -5.74733119\n",
      "   -4.53585826   -5.51729112   -7.49547545   -5.2522178   -22.99798875\n",
      "   -5.10975773   -4.77507802   -5.02217774   -5.19963283   -5.00511808\n",
      "   -5.62440222   -7.45583637   -6.31456066   -4.47447938   -4.86906688\n",
      "   -5.7668623    -5.98596013  -11.81797446   -4.46153349   -6.59503736\n",
      "   -5.70136967   -6.64512661   -6.41508654  -12.88847839   -4.70451945\n",
      "  -13.12584012   -6.09742825   -4.84057065   -6.08452059   -6.03443134\n",
      " -180.03959365  -16.74013203   -5.59820111   -6.59768003   -4.46153349\n",
      "   -5.34862993   -4.56205937   -4.62608092   -6.31456066   -5.57867\n",
      "   -4.94109654   -5.62440222   -6.21188644  -26.10683108  -20.80777986\n",
      "   -5.83742087   -5.62440222   -4.45741973   -5.33568404   -5.93140974\n",
      "  -12.2134142   -10.55862114   -4.56205937   -6.47910809   -9.75238649\n",
      "   -6.75958479  -12.43746725  -14.72529039 -102.25597422   -4.85351655\n",
      "   -4.79209944   -5.74733119   -4.78798568   -4.53585826   -6.36499729\n",
      "   -5.0350854    -9.47119695   -5.33979779   -4.62608092   -5.00511808\n",
      "   -5.2522178    -5.2522178    -5.84153463   -4.61053059   -4.61053059\n",
      "   -5.02217774   -4.45741973   -5.41412257   -4.23149342   -6.00343939\n",
      "  -10.35868914   -5.08355662  -27.56526592  -14.33439404   -4.77919178\n",
      "   -5.68842377   -5.7668623    -4.47036563   -4.45741973   -4.94109654\n",
      "   -5.00923184   -4.94109654   -4.06283223   -6.56668808   -4.47447938\n",
      "  -10.38995995   -4.45741973   -4.53585826   -6.1284202   -25.72515124\n",
      "   -5.93140974   -8.91086115   -4.77919178   -6.06292757   -5.10975773\n",
      "   -5.41412257   -7.52132901   -6.24906802  -11.17557709   -5.33568404\n",
      "   -5.41676524   -4.45741973   -6.31456066   -5.02217774   -5.02217774\n",
      "  -27.80239037]\n"
     ]
    }
   ],
   "source": [
    "if predict_adv:\n",
    "    adv_pred = get_layers_predictions(layers_ann, adv_logits, indexes)\n",
    "    adv_log = get_loglikelihood(adv_pred, layer_prob)\n",
    "    np.save(folder+train_or_test+'_adv_log.npy', adv_log)\n",
    "else:\n",
    "    adv_log = np.load(folder+train_or_test+'_adv_log.npy')"
   ]
  },
  {
   "cell_type": "code",
   "execution_count": 51,
   "metadata": {},
   "outputs": [
    {
     "data": {
      "text/plain": [
       "(871,)"
      ]
     },
     "execution_count": 51,
     "metadata": {},
     "output_type": "execute_result"
    }
   ],
   "source": [
    "benign_log.shape"
   ]
  },
  {
   "cell_type": "code",
   "execution_count": 52,
   "metadata": {},
   "outputs": [
    {
     "data": {
      "text/plain": [
       "(871,)"
      ]
     },
     "execution_count": 52,
     "metadata": {},
     "output_type": "execute_result"
    }
   ],
   "source": [
    "adv_log.shape"
   ]
  },
  {
   "cell_type": "code",
   "execution_count": 53,
   "metadata": {},
   "outputs": [
    {
     "data": {
      "text/plain": [
       "'test'"
      ]
     },
     "execution_count": 53,
     "metadata": {},
     "output_type": "execute_result"
    }
   ],
   "source": [
    "train_or_test"
   ]
  },
  {
   "cell_type": "code",
   "execution_count": 54,
   "metadata": {},
   "outputs": [],
   "source": [
    "# if evaluation:\n",
    "#     logs = np.concatenate((benign_log, adv_log))\n",
    "#     y_logs = [0] * len(benign_log) + [1] * len(adv_log)\n",
    "#     print(len(logs))\n",
    "#     print(len(y_logs))\n",
    "\n",
    "#     fpr, tpr, thresholds = roc_curve(y_logs, logs, pos_label=0)\n",
    "#     roc_auc = auc(fpr, tpr)\n",
    "\n",
    "#     lw = 2\n",
    "#     plt.plot([0, 1], [0, 1], color='navy', lw=lw, linestyle='--')\n",
    "#     plt.plot(fpr, tpr, color='darkorange', lw=lw, label='ROC curve (area = %0.3f)' % roc_auc)\n",
    "#     plt.xlim([-0.02, 1.02])\n",
    "#     plt.ylim([-0.02, 1.02])\n",
    "#     plt.xlabel('False Positive Rate')\n",
    "#     plt.ylabel('True Positive Rate')\n",
    "#     plt.title('Receiver Operating Characteristic graph')\n",
    "#     plt.legend(loc=\"lower right\")\n",
    "\n",
    "#     plt.savefig(folder+train_or_test+'_roc_auc.png')\n",
    "#     plt.show(block=True)\n",
    "#     plt.clf()\n",
    "\n",
    "#     lr_precision, lr_recall, _ = precision_recall_curve(y_logs, logs, pos_label=0)\n",
    "#     precision_recall_auc = auc(lr_recall, lr_precision)\n",
    "\n",
    "#     lw = 2\n",
    "#     plt.plot([0, 1], [1, 0], color='navy', lw=lw, linestyle='--')\n",
    "#     plt.plot(lr_recall, lr_precision, color='darkorange', lw=lw, label='precision recall curve (area = %0.3f)' % precision_recall_auc)\n",
    "#     plt.xlim([-0.02, 1.02])\n",
    "#     plt.ylim([-0.02, 1.02])\n",
    "#     plt.xlabel('Recall')\n",
    "#     plt.ylabel('Precision')\n",
    "#     plt.title('Precision Recall graph')\n",
    "#     plt.legend(loc=\"lower right\")\n",
    "\n",
    "#     plt.savefig(folder+train_or_test+'_precision_recall_auc.png')\n",
    "#     plt.show(block=True)\n",
    "#     plt.clf()\n",
    "\n",
    "#     plt.figure(figsize=(50,50))\n",
    "#     plt.bar(np.arange(benign_log.shape[0]), benign_log, color='#7f6d5f', label='benign', align='edge')\n",
    "#     plt.bar(np.arange(adv_log.shape[0])+ benign_log.shape[0], adv_log, color='000000', label='adv', align='edge')\n",
    "#     plt.legend()\n",
    "#     plt.savefig(folder+attack+'_'+train_or_test+'_histogram.png')\n",
    "#     plt.show()"
   ]
  },
  {
   "cell_type": "code",
   "execution_count": 55,
   "metadata": {},
   "outputs": [
    {
     "data": {
      "text/plain": [
       "871"
      ]
     },
     "execution_count": 55,
     "metadata": {},
     "output_type": "execute_result"
    }
   ],
   "source": [
    "len(adv_log)"
   ]
  },
  {
   "cell_type": "code",
   "execution_count": 56,
   "metadata": {},
   "outputs": [
    {
     "name": "stdout",
     "output_type": "stream",
     "text": [
      "1742\n",
      "1742\n"
     ]
    },
    {
     "data": {
      "image/png": "[encoded data removed]",
      "text/plain": [
       "<Figure size 432x288 with 1 Axes>"
      ]
     },
     "metadata": {
      "needs_background": "light"
     },
     "output_type": "display_data"
    },
    {
     "data": {
      "text/plain": [
       "<Figure size 432x288 with 0 Axes>"
      ]
     },
     "metadata": {},
     "output_type": "display_data"
    }
   ],
   "source": [
    "if evaluation:\n",
    "    logs = np.concatenate((benign_log, adv_log))\n",
    "    y_logs = [0] * len(benign_log) + [1] * len(adv_log)\n",
    "    print(len(logs))\n",
    "    print(len(y_logs))\n",
    "\n",
    "#     fpr, tpr, thresholds = roc_curve(y_logs, logs, pos_label=0)\n",
    "#     roc_auc = auc(fpr, tpr)\n",
    "\n",
    "    lw = 2\n",
    "#     plt.plot([0, 1], [0, 1], color='navy', lw=lw, linestyle='--')\n",
    "#     plt.plot(fpr, tpr, color='darkorange', lw=lw, label='ROC curve (area = %0.3f)' % roc_auc)\n",
    "#     plt.xlim([-0.02, 1.02])\n",
    "#     plt.ylim([-0.02, 1.02])\n",
    "#     plt.xlabel('False Positive Rate')\n",
    "#     plt.ylabel('True Positive Rate')\n",
    "#     plt.title('Receiver Operating Characteristic graph')\n",
    "#     plt.legend(loc=\"lower right\")\n",
    "\n",
    "#     plt.savefig(folder+train_or_test+'_roc_auc.png')\n",
    "#     plt.show(block=True)\n",
    "#     plt.clf()\n",
    "\n",
    "#     lr_precision, lr_recall, _ = precision_recall_curve(y_logs, logs, pos_label=0)\n",
    "#     precision_recall_auc = auc(lr_recall, lr_precision)\n",
    "\n",
    "#     lw = 2\n",
    "#     plt.plot([0, 1], [1, 0], color='navy', lw=lw, linestyle='--')\n",
    "#     plt.plot(lr_recall, lr_precision, color='darkorange', lw=lw, label='precision recall curve (area = %0.3f)' % precision_recall_auc)\n",
    "#     plt.xlim([-0.02, 1.02])\n",
    "#     plt.ylim([-0.02, 1.02])\n",
    "#     plt.xlabel('Recall')\n",
    "#     plt.ylabel('Precision')\n",
    "#     plt.title('Precision Recall graph')\n",
    "#     plt.legend(loc=\"lower right\")\n",
    "\n",
    "#     plt.savefig(folder+train_or_test+'_precision_recall_auc.png')\n",
    "#     plt.show(block=True)\n",
    "#     plt.clf()\n",
    "    \n",
    "    \n",
    "# ----------------------------------    \n",
    "\n",
    "#     plt.figure(figsize=(50,50))\n",
    "#     plt.bar(np.arange(benign_log.shape[0]), benign_log, color='#7f6d5f', label='benign', align='edge')\n",
    "#     plt.bar(np.arange(adv_log.shape[0])+ benign_log.shape[0], adv_log, color='000000', label='adv', align='edge')\n",
    "#     plt.legend()\n",
    "#     plt.savefig(folder+attack+'_'+train_or_test+'_histogram.png')\n",
    "#     plt.show()\n",
    "\n",
    "#     plt.figure(figsize=(15, 15))\n",
    "    plt.xlabel('test sample #')\n",
    "    plt.ylabel('likelihood value')\n",
    "    plt.title('test samples likelihood value')    \n",
    "    plt.ylim([-0.02, 180.00])\n",
    "    plt.axvline(x=len(benign_log), linewidth=lw, color='r', linestyle='--')\n",
    "    plt.bar(np.arange(benign_log.shape[0]), benign_log*-1, color='navy', label='benign', align='edge')\n",
    "    plt.bar(np.arange(adv_log.shape[0])+ benign_log.shape[0], adv_log*-1, color='darkorange', label='adversarial',\n",
    "            align='edge')\n",
    "    plt.legend()\n",
    "    plt.savefig(folder+attack+'_'+train_or_test+'_histogram.png')\n",
    "    # plt.show(block=True)\n",
    "    plt.show()\n",
    "    plt.clf()"
   ]
  },
  {
   "cell_type": "code",
   "execution_count": null,
   "metadata": {},
   "outputs": [],
   "source": []
  }
 ],
 "metadata": {
  "kernelspec": {
   "display_name": "PythonArt",
   "language": "python",
   "name": "art"
  },
  "language_info": {
   "codemirror_mode": {
    "name": "ipython",
    "version": 3
   },
   "file_extension": ".py",
   "mimetype": "text/x-python",
   "name": "python",
   "nbconvert_exporter": "python",
   "pygments_lexer": "ipython3",
   "version": "3.7.5"
  }
 },
 "nbformat": 4,
 "nbformat_minor": 4
}
